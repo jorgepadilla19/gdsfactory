{
 "cells": [
  {
   "cell_type": "markdown",
   "id": "f0a03681-86cb-4835-b41d-fd8da98be22a",
   "metadata": {},
   "source": [
    "# Plugins\n",
    "\n",
    "- Mode solver. Frequency Domain solver to compute modes for different waveguide geometries. Single frequency/wavelength solving.\n",
    "    - MPB. See `gdsfactory.simulation.modes`\n",
    "- FDTD: Finite difference time domain wave propagation. Provides Broadband spectrum for a component. Described as Sparameters (ratio of output/input field for each port)\n",
    "    - lumerical Ansys FDTD. See `gdsfactory.simulation.lumerical`\n",
    "    - meep. See `gdsfactory.simulation.gmeep`\n",
    "    - tidy3d. See `gdsfactory.simulation.gtidy`\n",
    "- Linear circuit solver\n",
    "    - [simphony (open source)](https://simphonyphotonics.readthedocs.io/en/latest/)\n",
    "    - [sax (open source)](https://sax.readthedocs.io/en/latest/index.html)\n"
   ]
  }
 ],
 "metadata": {
  "kernelspec": {
   "display_name": "Python 3 (ipykernel)",
   "language": "python",
   "name": "python3"
  },
  "language_info": {
   "codemirror_mode": {
    "name": "ipython",
    "version": 3
   },
   "file_extension": ".py",
   "mimetype": "text/x-python",
   "name": "python",
   "nbconvert_exporter": "python",
   "pygments_lexer": "ipython3",
   "version": "3.9.7"
  }
 },
 "nbformat": 4,
 "nbformat_minor": 5
}
