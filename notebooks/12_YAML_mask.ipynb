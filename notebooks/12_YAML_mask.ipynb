{
 "cells": [
  {
   "cell_type": "markdown",
   "metadata": {},
   "source": [
    "## YAML mask\n",
    "\n",
    "We can also a set of Design Of Experiments in a YAML file together with placing information"
   ]
  },
  {
   "cell_type": "code",
   "execution_count": 1,
   "metadata": {
    "attributes": {
     "classes": [],
     "id": "",
     "n": "1"
    },
    "execution": {
     "iopub.execute_input": "2022-03-03T06:46:17.289864Z",
     "iopub.status.busy": "2022-03-03T06:46:17.289668Z",
     "iopub.status.idle": "2022-03-03T06:46:19.335963Z",
     "shell.execute_reply": "2022-03-03T06:46:19.335394Z"
    }
   },
   "outputs": [
    {
     "name": "stderr",
     "output_type": "stream",
     "text": [
      "2022-03-03 06:46:18.130 | INFO     | gdsfactory.config:<module>:52 - Load '/home/runner/work/gdsfactory/gdsfactory/gdsfactory' 4.3.0\n"
     ]
    },
    {
     "name": "stderr",
     "output_type": "stream",
     "text": [
      "2022-03-03 06:46:19.168 | INFO     | gdsfactory.component:write_gds:873 - Write GDS to '/home/runner/work/gdsfactory/gdsfactory/docs/notebooks/build/cache_doe_directory/mmi_width/mmi1x2_25023716.gds'\n"
     ]
    },
    {
     "name": "stderr",
     "output_type": "stream",
     "text": [
      "2022-03-03 06:46:19.165 | INFO     | gdsfactory.component:write_gds:873 - Write GDS to '/home/runner/work/gdsfactory/gdsfactory/docs/notebooks/build/cache_doe_directory/mmi_width_length/mmi1x2_7ee80b3e.gds'\n"
     ]
    },
    {
     "name": "stderr",
     "output_type": "stream",
     "text": [
      "2022-03-03 06:46:19.188 | INFO     | gdsfactory.component:write_gds_with_metadata:881 - Write YAML metadata to '/home/runner/work/gdsfactory/gdsfactory/docs/notebooks/build/cache_doe_directory/mmi_width/mmi1x2_25023716.yml'\n"
     ]
    },
    {
     "name": "stderr",
     "output_type": "stream",
     "text": [
      "2022-03-03 06:46:19.190 | INFO     | gdsfactory.component:write_gds:873 - Write GDS to '/home/runner/work/gdsfactory/gdsfactory/docs/notebooks/build/cache_doe_directory/mmi_width/mmi1x2_7ef09fb3.gds'\n"
     ]
    },
    {
     "name": "stderr",
     "output_type": "stream",
     "text": [
      "2022-03-03 06:46:19.203 | INFO     | gdsfactory.component:write_gds_with_metadata:881 - Write YAML metadata to '/home/runner/work/gdsfactory/gdsfactory/docs/notebooks/build/cache_doe_directory/mmi_width/mmi1x2_7ef09fb3.yml'\n"
     ]
    },
    {
     "name": "stderr",
     "output_type": "stream",
     "text": [
      "2022-03-03 06:46:19.206 | INFO     | gdsfactory.component:write_gds_with_metadata:881 - Write YAML metadata to '/home/runner/work/gdsfactory/gdsfactory/docs/notebooks/build/cache_doe_directory/mmi_width_length/mmi1x2_7ee80b3e.yml'\n"
     ]
    },
    {
     "name": "stderr",
     "output_type": "stream",
     "text": [
      "2022-03-03 06:46:19.208 | INFO     | gdsfactory.component:write_gds:873 - Write GDS to '/home/runner/work/gdsfactory/gdsfactory/docs/notebooks/build/cache_doe_directory/mmi_width_length/mmi1x2_444c015a.gds'\n"
     ]
    },
    {
     "name": "stderr",
     "output_type": "stream",
     "text": [
      "2022-03-03 06:46:19.223 | INFO     | gdsfactory.component:write_gds_with_metadata:881 - Write YAML metadata to '/home/runner/work/gdsfactory/gdsfactory/docs/notebooks/build/cache_doe_directory/mmi_width_length/mmi1x2_444c015a.yml'\n"
     ]
    },
    {
     "name": "stderr",
     "output_type": "stream",
     "text": [
      "2022-03-03 06:46:19.303 | INFO     | gdsfactory.mask.write_labels:write_labels:61 - Wrote 0 labels in /home/runner/work/gdsfactory/gdsfactory/docs/notebooks/build/mask/mask.csv\n"
     ]
    },
    {
     "name": "stderr",
     "output_type": "stream",
     "text": [
      "2022-03-03 06:46:19.305 | DEBUG    | gdsfactory.mask.merge_yaml:merge_yaml:27 - Merging JSON files from /home/runner/work/gdsfactory/gdsfactory/docs/notebooks/build/cache_doe\n"
     ]
    },
    {
     "name": "stderr",
     "output_type": "stream",
     "text": [
      "2022-03-03 06:46:19.307 | INFO     | gdsfactory.mask.merge_yaml:merge_yaml:43 - Wrote metadata in /home/runner/work/gdsfactory/gdsfactory/docs/notebooks/build/mask/mask.yml\n"
     ]
    },
    {
     "name": "stderr",
     "output_type": "stream",
     "text": [
      "2022-03-03 06:46:19.308 | INFO     | gdsfactory.mask.merge_markdown:merge_markdown:18 - Merging Markdown files:\n"
     ]
    },
    {
     "name": "stderr",
     "output_type": "stream",
     "text": [
      "2022-03-03 06:46:19.330 | INFO     | gdsfactory.mask.merge_markdown:merge_markdown:39 - Wrote /home/runner/work/gdsfactory/gdsfactory/docs/notebooks/build/mask/mask.md\n"
     ]
    },
    {
     "name": "stderr",
     "output_type": "stream",
     "text": [
      "2022-03-03 06:46:19.330 | INFO     | gdsfactory.mask.merge_markdown:merge_markdown:40 - Wrote /home/runner/work/gdsfactory/gdsfactory/docs/notebooks/build/mask/mask.yml\n"
     ]
    }
   ],
   "source": [
    "import pathlib\n",
    "import pytest\n",
    "import gdsfactory as gf\n",
    "\n",
    "from gdsfactory.autoplacer.yaml_placer import place_from_yaml\n",
    "from gdsfactory.mask.merge_metadata import merge_metadata\n",
    "\n",
    "\n",
    "def test_mask():\n",
    "    \"\"\" \"\"\"\n",
    "    cwd = pathlib.Path().cwd()\n",
    "    does_path = cwd / \"does.yml\"\n",
    "\n",
    "    doe_root_path = cwd / \"build\" / \"cache_doe_directory\"\n",
    "    mask_path = cwd / \"build\" / \"mask\"\n",
    "    gdspath = mask_path / \"mask.gds\"\n",
    "    mask_path.mkdir(parents=True, exist_ok=True)\n",
    "\n",
    "    gf.sweep.write_sweeps(\n",
    "        str(does_path),\n",
    "        doe_root_path=doe_root_path,\n",
    "    )\n",
    "    top_level = place_from_yaml(does_path, root_does=doe_root_path)\n",
    "    top_level.write(str(gdspath))\n",
    "    merge_metadata(gdspath)\n",
    "    assert gdspath.exists()\n",
    "    return gdspath\n",
    "\n",
    "\n",
    "gdspath_mask = test_mask()\n",
    "gf.show(gdspath_mask)"
   ]
  },
  {
   "cell_type": "code",
   "execution_count": null,
   "metadata": {},
   "outputs": [],
   "source": []
  }
 ],
 "metadata": {
  "kernelspec": {
   "display_name": "Python 3 (ipykernel)",
   "language": "python",
   "name": "python3"
  },
  "language_info": {
   "codemirror_mode": {
    "name": "ipython",
    "version": 3
   },
   "file_extension": ".py",
   "mimetype": "text/x-python",
   "name": "python",
   "nbconvert_exporter": "python",
   "pygments_lexer": "ipython3",
   "version": "3.9.10"
  }
 },
 "nbformat": 4,
 "nbformat_minor": 4
}
